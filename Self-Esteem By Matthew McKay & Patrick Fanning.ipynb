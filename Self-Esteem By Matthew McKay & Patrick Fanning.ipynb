{
 "cells": [
  {
   "cell_type": "code",
   "execution_count": 1,
   "id": "7df916ed",
   "metadata": {},
   "outputs": [
    {
     "name": "stdout",
     "output_type": "stream",
     "text": [
      "Requirement already satisfied: plotly in /Users/mahaalarifi/opt/anaconda3/envs/booksreviews/lib/python3.11/site-packages (5.15.0)\n",
      "Requirement already satisfied: tenacity>=6.2.0 in /Users/mahaalarifi/opt/anaconda3/envs/booksreviews/lib/python3.11/site-packages (from plotly) (8.2.2)\n",
      "Requirement already satisfied: packaging in /Users/mahaalarifi/opt/anaconda3/envs/booksreviews/lib/python3.11/site-packages (from plotly) (23.0)\n",
      "Note: you may need to restart the kernel to use updated packages.\n",
      "Requirement already satisfied: fontawesome in /Users/mahaalarifi/opt/anaconda3/envs/booksreviews/lib/python3.11/site-packages (5.10.1.post1)\n",
      "Note: you may need to restart the kernel to use updated packages.\n"
     ]
    }
   ],
   "source": [
    "%pip install plotly\n",
    "%pip install fontawesome"
   ]
  },
  {
   "cell_type": "code",
   "execution_count": 1,
   "id": "cc5d55ed",
   "metadata": {},
   "outputs": [],
   "source": [
    "import plotly.graph_objects as go\n",
    "import fontawesome as fa\n",
    "import plotly.io as pio\n",
    "pio.renderers.default = 'iframe'"
   ]
  },
  {
   "cell_type": "markdown",
   "id": "22de5b10",
   "metadata": {},
   "source": [
    "# <div style='text-align: center;'>Self-Esteem</div>\n",
    "<div style='text-align: center;'>By Matthew McKay & Patrick Fanning</div>"
   ]
  },
  {
   "cell_type": "markdown",
   "id": "d1e9ed1a",
   "metadata": {},
   "source": [
    "# <div style='text-align: center;'>الإعتزاز بالذات</div>"
   ]
  },
  {
   "cell_type": "markdown",
   "id": "99e83223",
   "metadata": {},
   "source": [
    "## <div style=\"direction:rtl\">🌸 تقييم ذاتي واقعي</div>"
   ]
  },
  {
   "cell_type": "markdown",
   "id": "9cb4ae6a",
   "metadata": {},
   "source": [
    "| Original Version | النسخة المبدأية |\n",
    "| :--- | ---: |\n",
    "| Physical appearance | المظهر الخارجي |\n",
    "| How you relate to others | كيف تتعامل مع الآخرين | \n",
    "| Personality | شخصيتك |\n",
    "| How other people see you | كيف يراك الآخرين |\n",
    "| Performance ar school or on the job | آداءك في المدرسة أو في العمل |\n",
    "| Performance of the daily tasks of life | آداءك في المهام الحياتية اليومية |\n",
    "| Mental functioning | الصحة الذهنية |\n",
    "| Sexuality | الجنسانية |\n"
   ]
  },
  {
   "cell_type": "markdown",
   "id": "fe3e07bc",
   "metadata": {},
   "source": [
    "## <div style=\"direction:rtl\">🌸 التشوهات في استيعاب الواقع </div>"
   ]
  },
  {
   "cell_type": "code",
   "execution_count": 2,
   "id": "c2fb8670",
   "metadata": {},
   "outputs": [
    {
     "data": {
      "text/html": [
       "<iframe\n",
       "    scrolling=\"no\"\n",
       "    width=\"100%\"\n",
       "    height=\"545px\"\n",
       "    src=\"iframe_figures/figure_2.html\"\n",
       "    frameborder=\"0\"\n",
       "    allowfullscreen\n",
       "></iframe>\n"
      ]
     },
     "metadata": {},
     "output_type": "display_data"
    }
   ],
   "source": [
    "fig = go.Figure(data=[go.Sankey(\n",
    "    node = dict(\n",
    "      pad = 15,\n",
    "      thickness = 20,\n",
    "      line = dict(color = \"gold\", width = 0.5),\n",
    "      label = [ \"Cognitive Distortions\"\n",
    "               , \"Overgeneralization - التعميم\"\n",
    "               , \"Global Labeling - الإنطباعات المسبقة\"\n",
    "               , \"Filtring - حجب بعض الحقائق واستقبال نوع محدد من الحقائق\"\n",
    "               , \"Polarized Thinking - التفكير القطبي يا أبيض يا أسود\"\n",
    "               , \"Self-Blame - جلد الذات\"\n",
    "               , \"Personalization - الشخصنة\"\n",
    "               , \"Mind Reading - قراءة الأفكار\"\n",
    "               , \"Control Fallacies - أفتراض السيطرة على أمور غير مقدور عليها أو العكس\"\n",
    "              ],\n",
    "      color = ['rgba(255, 255, 255, 0.6)'\n",
    "               ,'rgba(255, 105, 97, 0.6)'\n",
    "               ,'rgba(255, 180, 128, 0.6)'\n",
    "               ,'rgba(248, 243, 141, 0.6)'\n",
    "               ,'rgba(66, 214, 164, 0.6)'\n",
    "               ,'rgba(8, 202, 209, 0.6)'\n",
    "               ,'rgba(89, 173, 246, 0.6)'\n",
    "               ,'rgba(157, 148, 255, 0.6)'\n",
    "               ,'rgba(199, 128, 232, 0.6)'],\n",
    "      hoverinfo='skip'\n",
    "\n",
    "    ),\n",
    "    link = dict(\n",
    "      source = [0, 0, 0, 0, 0, 0, 0, 0, 0],\n",
    "      target = [1, 2, 3, 4, 5, 6, 7, 8],\n",
    "      value = [1, 1, 1, 1, 1, 1, 1, 1],\n",
    "     hoverinfo='skip'\n",
    "\n",
    "  ))])\n",
    "fig.show()"
   ]
  },
  {
   "cell_type": "markdown",
   "id": "24b8f7cd",
   "metadata": {},
   "source": [
    "## <div style=\"direction:rtl\">🌸 التخفيف من الأفكار المؤلمة</div>"
   ]
  },
  {
   "cell_type": "code",
   "execution_count": 3,
   "id": "fdc26fff",
   "metadata": {},
   "outputs": [
    {
     "data": {
      "text/html": [
       "<iframe\n",
       "    scrolling=\"no\"\n",
       "    width=\"100%\"\n",
       "    height=\"545px\"\n",
       "    src=\"iframe_figures/figure_3.html\"\n",
       "    frameborder=\"0\"\n",
       "    allowfullscreen\n",
       "></iframe>\n"
      ]
     },
     "metadata": {},
     "output_type": "display_data"
    }
   ],
   "source": [
    "fig = go.Figure(data=[go.Scatter(x=[9.5, 9.4, 10.8, 10, 15]\n",
    "                                 , y=[7, 13.56, 13, 10, 10]\n",
    "                                 , mode='markers+text'\n",
    "                                 , text=['White Room<br>Meditation'\n",
    "                                         , 'Mindful<br>Focusing'\n",
    "                                         , 'Labeling<br>Thoughts'\n",
    "                                         , '<b>Watching your Thoughts</b>'\n",
    "                                         , '<b>Letting go of Thoughts</b>'\n",
    "                                        ]\n",
    "                                 , marker_size=[88,88,88, 280, 280]\n",
    "                                 , marker_color=['rgba(252, 246, 189, 0.6)'\n",
    "                                                 ,'rgba(208, 244, 222, 0.6)'\n",
    "                                                 ,'rgba(169, 222, 249, 0.6)'\n",
    "                                                 ,'rgba(255, 153, 200, 0.2)'\n",
    "                                                 ,'rgba(228, 193, 249, 0.2)']\n",
    "                                 , hoverinfo='skip'\n",
    "                                )])\n",
    "fig.update_xaxes(showgrid=False, showline=False, showticklabels=False)\n",
    "fig.update_yaxes(showgrid=False, showline=False, showticklabels=False)\n",
    "fig.update_layout(plot_bgcolor='white')\n",
    "fig"
   ]
  },
  {
   "cell_type": "markdown",
   "id": "a7fca73c",
   "metadata": {},
   "source": [
    "## <div style=\"direction:rtl\">🌸 التعاطف</div>"
   ]
  },
  {
   "cell_type": "code",
   "execution_count": 23,
   "id": "cceb7d0b",
   "metadata": {},
   "outputs": [
    {
     "data": {
      "text/html": [
       "<iframe\n",
       "    scrolling=\"no\"\n",
       "    width=\"100%\"\n",
       "    height=\"545px\"\n",
       "    src=\"iframe_figures/figure_23.html\"\n",
       "    frameborder=\"0\"\n",
       "    allowfullscreen\n",
       "></iframe>\n"
      ]
     },
     "metadata": {},
     "output_type": "display_data"
    }
   ],
   "source": [
    "import plotly.graph_objects as go\n",
    "\n",
    "fig =go.Figure(go.Sunburst(\n",
    "    labels=[\"Compassion<br>التعاطف\"\n",
    "            , \"Understanding\"\n",
    "            , \"Acceptance\"\n",
    "            , \"Forgiveness\"\n",
    "            , \"what need was (he, she, I)<br>trying to meet<br>with that behavior?\",\n",
    "            \"I wish _____ hadn't happend,<br>but it was merely an attempt<br>to meet (his, her, my) needs.\",\n",
    "            \"It's over;<br>I can let go of it.\",\n",
    "            \"what belief or awarenesses<br>influenced the behavior? \",\n",
    "            \"I accept (him, her, myself)<br>without judgment or feeling<br>of wrongness for that attempt.\",\n",
    "            \"Nothing is owed<br>for this mistake.\",\n",
    "            \"what pain, hurt, or<br>other feelings influenced<br>the bahavior? \",\n",
    "            \"No matter how unfortunate<br>(his, her, my) devision,<br>I accept the person who did it<br>as someone who is, like all of us,<br>trying to survive.\"\n",
    "            ],\n",
    "    parents=[\"\"\n",
    "             , \"Compassion<br>التعاطف\"\n",
    "             , \"Compassion<br>التعاطف\"\n",
    "             , \"Compassion<br>التعاطف\"\n",
    "             , \"Understanding\"\n",
    "             , \"Acceptance\"\n",
    "             , \"Forgiveness\"             \n",
    "             , \"Understanding\"\n",
    "             , \"Acceptance\"\n",
    "             , \"Forgiveness\"             \n",
    "             , \"Understanding\"\n",
    "             , \"Acceptance\"\n",
    "            ],\n",
    "    marker=dict(\n",
    "        colors=['rgba(250, 243, 221, 0.6)'\n",
    "                ,'rgba(255, 166, 158, 0.8)'\n",
    "                ,'rgba(184, 242, 230, 0.8)'\n",
    "                ,'rgba(174, 217, 224, 0.8)'\n",
    "                ,'rgba(255, 166, 158, 0.2)'\n",
    "                ,'rgba(184, 242, 230, 0.2)'\n",
    "                ,'rgba(174, 217, 224, 0.2)'                \n",
    "                ,'rgba(255, 166, 158, 0.2)'\n",
    "                ,'rgba(184, 242, 230, 0.2)'\n",
    "                ,'rgba(174, 217, 224, 0.2)'                \n",
    "                ,'rgba(255, 166, 158, 0.2)'\n",
    "                ,'rgba(184, 242, 230, 0.2)'],\n",
    "        colorscale='RdBu'),\n",
    "    hoverinfo='skip'\n",
    "\n",
    "))\n",
    "# Update layout for tight margin\n",
    "# See https://plotly.com/python/creating-and-updating-figures/\n",
    "fig.update_layout(margin = dict(t=0, l=0, r=0, b=0))\n",
    "\n",
    "fig.show()"
   ]
  },
  {
   "cell_type": "code",
   "execution_count": null,
   "id": "48630871",
   "metadata": {},
   "outputs": [],
   "source": []
  }
 ],
 "metadata": {
  "kernelspec": {
   "display_name": "Python 3 (ipykernel)",
   "language": "python",
   "name": "python3"
  },
  "language_info": {
   "codemirror_mode": {
    "name": "ipython",
    "version": 3
   },
   "file_extension": ".py",
   "mimetype": "text/x-python",
   "name": "python",
   "nbconvert_exporter": "python",
   "pygments_lexer": "ipython3",
   "version": "3.11.3"
  }
 },
 "nbformat": 4,
 "nbformat_minor": 5
}
